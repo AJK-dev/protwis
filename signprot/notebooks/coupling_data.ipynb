{
 "cells": [
  {
   "cell_type": "markdown",
   "metadata": {},
   "source": [
    "## Setup (Django)"
   ]
  },
  {
   "cell_type": "code",
   "execution_count": 1,
   "metadata": {},
   "outputs": [],
   "source": [
    "from helpers.setup import setup_django"
   ]
  },
  {
   "cell_type": "code",
   "execution_count": 2,
   "metadata": {},
   "outputs": [
    {
     "name": "stderr",
     "output_type": "stream",
     "text": [
      "/env/lib/python3.4/site-packages/psycopg2/__init__.py:144: UserWarning: The psycopg2 wheel package will be renamed from release 2.8; in order to keep installing from binary please use \"pip install psycopg2-binary\" instead. For details see: <http://initd.org/psycopg/docs/install.html#binary-install-from-pypi>.\n",
      "  \"\"\")\n"
     ]
    }
   ],
   "source": [
    "setup_django()"
   ]
  },
  {
   "cell_type": "markdown",
   "metadata": {},
   "source": [
    "## Setup"
   ]
  },
  {
   "cell_type": "code",
   "execution_count": 3,
   "metadata": {},
   "outputs": [],
   "source": [
    "from pathlib import Path\n",
    "from helpers.utility import *\n",
    "from protein.models import ProteinGProtein\n",
    "from seqsign.sequence_signature import SequenceSignature"
   ]
  },
  {
   "cell_type": "markdown",
   "metadata": {},
   "source": [
    "## Supporting Datastores"
   ]
  },
  {
   "cell_type": "code",
   "execution_count": 4,
   "metadata": {},
   "outputs": [],
   "source": [
    "rec_clas = get_receptor_classes()\n",
    "rec_segs = get_receptor_segments()\n",
    "gpr_clas = get_gprot_classes()\n",
    "gpr_segs = get_gprot_segments()"
   ]
  },
  {
   "cell_type": "code",
   "execution_count": 5,
   "metadata": {},
   "outputs": [],
   "source": [
    "gpr_clas2 = ProteinGProtein.objects.all().values_list('name', flat=True)\n",
    "gpr_clas2 = [i.split(' ')[0] for i in gpr_clas2]"
   ]
  },
  {
   "cell_type": "markdown",
   "metadata": {},
   "source": [
    "## Generating a table of all receptors and their coupling data (Guide To Pharmacology)"
   ]
  },
  {
   "cell_type": "code",
   "execution_count": 6,
   "metadata": {},
   "outputs": [],
   "source": [
    "coupling_data = prepare_coupling_data_container()"
   ]
  },
  {
   "cell_type": "code",
   "execution_count": 7,
   "metadata": {},
   "outputs": [],
   "source": [
    "coupling_data = fill_coupling_data_container(coupling_data)"
   ]
  },
  {
   "cell_type": "code",
   "execution_count": 8,
   "metadata": {},
   "outputs": [],
   "source": [
    "coupling_data = process_coupling_data(coupling_data)"
   ]
  },
  {
   "cell_type": "code",
   "execution_count": 9,
   "metadata": {},
   "outputs": [
    {
     "data": {
      "text/html": [
       "<div>\n",
       "<style scoped>\n",
       "    .dataframe tbody tr th:only-of-type {\n",
       "        vertical-align: middle;\n",
       "    }\n",
       "\n",
       "    .dataframe tbody tr th {\n",
       "        vertical-align: top;\n",
       "    }\n",
       "\n",
       "    .dataframe thead th {\n",
       "        text-align: right;\n",
       "    }\n",
       "</style>\n",
       "<table border=\"1\" class=\"dataframe\">\n",
       "  <thead>\n",
       "    <tr style=\"text-align: right;\">\n",
       "      <th></th>\n",
       "      <th>G12/G13</th>\n",
       "      <th>Gi/Go</th>\n",
       "      <th>Gq/G11</th>\n",
       "      <th>Gs</th>\n",
       "      <th>coupling</th>\n",
       "      <th>gprot</th>\n",
       "      <th>key</th>\n",
       "      <th>rec_class</th>\n",
       "      <th>rec_obj</th>\n",
       "    </tr>\n",
       "  </thead>\n",
       "  <tbody>\n",
       "    <tr>\n",
       "      <th>271</th>\n",
       "      <td>False</td>\n",
       "      <td>True</td>\n",
       "      <td>False</td>\n",
       "      <td>False</td>\n",
       "      <td>{'Gi/Go': 'primary'}</td>\n",
       "      <td>[Gi/Go]</td>\n",
       "      <td>5HT1A</td>\n",
       "      <td>Class A (Rhodopsin)</td>\n",
       "      <td>5ht1a_human</td>\n",
       "    </tr>\n",
       "    <tr>\n",
       "      <th>29</th>\n",
       "      <td>False</td>\n",
       "      <td>True</td>\n",
       "      <td>False</td>\n",
       "      <td>False</td>\n",
       "      <td>{'Gi/Go': 'primary'}</td>\n",
       "      <td>[Gi/Go]</td>\n",
       "      <td>5HT1B</td>\n",
       "      <td>Class A (Rhodopsin)</td>\n",
       "      <td>5ht1b_human</td>\n",
       "    </tr>\n",
       "    <tr>\n",
       "      <th>208</th>\n",
       "      <td>False</td>\n",
       "      <td>True</td>\n",
       "      <td>False</td>\n",
       "      <td>False</td>\n",
       "      <td>{'Gi/Go': 'primary'}</td>\n",
       "      <td>[Gi/Go]</td>\n",
       "      <td>5HT1D</td>\n",
       "      <td>Class A (Rhodopsin)</td>\n",
       "      <td>5ht1d_human</td>\n",
       "    </tr>\n",
       "    <tr>\n",
       "      <th>384</th>\n",
       "      <td>False</td>\n",
       "      <td>True</td>\n",
       "      <td>False</td>\n",
       "      <td>False</td>\n",
       "      <td>{'Gi/Go': 'primary'}</td>\n",
       "      <td>[Gi/Go]</td>\n",
       "      <td>5HT1E</td>\n",
       "      <td>Class A (Rhodopsin)</td>\n",
       "      <td>5ht1e_human</td>\n",
       "    </tr>\n",
       "    <tr>\n",
       "      <th>299</th>\n",
       "      <td>False</td>\n",
       "      <td>True</td>\n",
       "      <td>False</td>\n",
       "      <td>False</td>\n",
       "      <td>{'Gi/Go': 'primary'}</td>\n",
       "      <td>[Gi/Go]</td>\n",
       "      <td>5HT1F</td>\n",
       "      <td>Class A (Rhodopsin)</td>\n",
       "      <td>5ht1f_human</td>\n",
       "    </tr>\n",
       "  </tbody>\n",
       "</table>\n",
       "</div>"
      ],
      "text/plain": [
       "     G12/G13  Gi/Go  Gq/G11     Gs              coupling    gprot    key  \\\n",
       "271    False   True   False  False  {'Gi/Go': 'primary'}  [Gi/Go]  5HT1A   \n",
       "29     False   True   False  False  {'Gi/Go': 'primary'}  [Gi/Go]  5HT1B   \n",
       "208    False   True   False  False  {'Gi/Go': 'primary'}  [Gi/Go]  5HT1D   \n",
       "384    False   True   False  False  {'Gi/Go': 'primary'}  [Gi/Go]  5HT1E   \n",
       "299    False   True   False  False  {'Gi/Go': 'primary'}  [Gi/Go]  5HT1F   \n",
       "\n",
       "               rec_class      rec_obj  \n",
       "271  Class A (Rhodopsin)  5ht1a_human  \n",
       "29   Class A (Rhodopsin)  5ht1b_human  \n",
       "208  Class A (Rhodopsin)  5ht1d_human  \n",
       "384  Class A (Rhodopsin)  5ht1e_human  \n",
       "299  Class A (Rhodopsin)  5ht1f_human  "
      ]
     },
     "execution_count": 9,
     "metadata": {},
     "output_type": "execute_result"
    }
   ],
   "source": [
    "df = pd.DataFrame(coupling_data)\n",
    "df.sort_values('key').head()"
   ]
  },
  {
   "cell_type": "markdown",
   "metadata": {},
   "source": [
    "## Calculating Sequence Signatures for all receptors and their coupling partners"
   ]
  },
  {
   "cell_type": "code",
   "execution_count": 10,
   "metadata": {},
   "outputs": [],
   "source": [
    "path = '/protwis/sites/protwis/signprot/pickles/'\n",
    "\n",
    "columns = [\n",
    "    'rec_class',\n",
    "    'gprot',\n",
    "    'with',\n",
    "    'wo',\n",
    "    'file_with',\n",
    "    'file_wo',\n",
    "]\n",
    "result_files = pd.DataFrame(columns=columns)"
   ]
  },
  {
   "cell_type": "code",
   "execution_count": 11,
   "metadata": {},
   "outputs": [],
   "source": [
    "# for rc in rec_clas:\n",
    "#     rc = str(rc)\n",
    "\n",
    "#     for gp in gpr_clas2:\n",
    "#         print(rc, '+', gp)\n",
    "        \n",
    "#         data_with = df[\n",
    "#             (df[gp].astype(bool)) &\n",
    "#             (df['rec_class'] == rc)\n",
    "#         ]\n",
    "#         data_without = df[\n",
    "#             (df[gp].astype(bool) == False) &\n",
    "#             (df['rec_class'] == rc)\n",
    "#         ]\n",
    "        \n",
    "#         with_set = data_with['rec_obj']\n",
    "#         wo_set = data_without['rec_obj']\n",
    "\n",
    "#         signature = SequenceSignature()\n",
    "#         signature.setup_alignments(rec_segs, with_set.tolist())\n",
    "#         signature.calculate_signature_onesided()\n",
    "\n",
    "#         file_with = Path(rc+'_'+gp+'_with.p')\n",
    "#         file_with = str(file_with).replace('/', '_').replace(' ', '_')\n",
    "#         pickle_signature({\n",
    "#             'type': 'with',\n",
    "#             'rec_class': rc,\n",
    "#             'gprot': gp,\n",
    "#             'signature': signature,\n",
    "#         }, path, file_with)\n",
    "\n",
    "        \n",
    "#         signature = SequenceSignature()\n",
    "#         signature.setup_alignments(rec_segs, wo_set.tolist())\n",
    "#         signature.calculate_signature_onesided()\n",
    "\n",
    "#         file_wo = Path(rc+'_'+gp+'_wo.p')\n",
    "#         file_wo = str(file_wo).replace('/', '_').replace(' ', '_')\n",
    "#         pickle_signature({\n",
    "#             'type': 'without',\n",
    "#             'rec_class': rc,\n",
    "#             'gprot': gp,\n",
    "#             'signature': signature,\n",
    "#         }, path, file_wo)\n",
    "\n",
    "\n",
    "#         result_files.loc[len(result_files)] = [\n",
    "#             rc,\n",
    "#             gp,\n",
    "#             data_with.shape[0],\n",
    "#             data_without.shape[0],\n",
    "#             file_with,\n",
    "#             file_wo,\n",
    "#         ]\n",
    "\n",
    "# result_files.to_csv(path+'index.csv')"
   ]
  },
  {
   "cell_type": "markdown",
   "metadata": {},
   "source": [
    "### Data Analysis\n",
    "## Comparing Receptor Sets"
   ]
  },
  {
   "cell_type": "code",
   "execution_count": 17,
   "metadata": {},
   "outputs": [
    {
     "name": "stderr",
     "output_type": "stream",
     "text": [
      "/env/lib/python3.4/site-packages/ipykernel_launcher.py:3: FutureWarning: from_csv is deprecated. Please use read_csv(...) instead. Note that some of the default arguments are different, so please refer to the documentation for from_csv when changing your function calls\n",
      "  This is separate from the ipykernel package so we can avoid doing imports until\n"
     ]
    }
   ],
   "source": [
    "import itertools\n",
    "result_file = Path(path + 'index.csv')\n",
    "result_file = pd.DataFrame.from_csv(result_file)"
   ]
  },
  {
   "cell_type": "markdown",
   "metadata": {},
   "source": [
    "### Class A\n",
    "\n",
    "#### Difference\n",
    "\n",
    "Which entries are unique to each of these sets?\n",
    "In other words: \"Which entries are a unique type of interaction for that recptor class + signal protein combination in comparison to that receptor class versus all other possible signal proteins?\""
   ]
  },
  {
   "cell_type": "code",
   "execution_count": 18,
   "metadata": {},
   "outputs": [],
   "source": [
    "obj = load_pickle_signature(path, result_file, 0, 0)\n",
    "cons = calc_consensus_from_signature(obj)\n",
    "df1 = aggregate_consensus_data(cons)\n",
    "df1 = pd.DataFrame(df1)"
   ]
  },
  {
   "cell_type": "code",
   "execution_count": 19,
   "metadata": {},
   "outputs": [],
   "source": [
    "obj = load_pickle_signature(path, result_file, 0, 1)\n",
    "cons = calc_consensus_from_signature(obj)\n",
    "df2 = aggregate_consensus_data(cons)\n",
    "df2 = pd.DataFrame(df2)"
   ]
  },
  {
   "cell_type": "code",
   "execution_count": 31,
   "metadata": {},
   "outputs": [
    {
     "name": "stdout",
     "output_type": "stream",
     "text": [
      "Dataframe description:\n"
     ]
    },
    {
     "data": {
      "text/html": [
       "<div>\n",
       "<style scoped>\n",
       "    .dataframe tbody tr th:only-of-type {\n",
       "        vertical-align: middle;\n",
       "    }\n",
       "\n",
       "    .dataframe tbody tr th {\n",
       "        vertical-align: top;\n",
       "    }\n",
       "\n",
       "    .dataframe thead th {\n",
       "        text-align: right;\n",
       "    }\n",
       "</style>\n",
       "<table border=\"1\" class=\"dataframe\">\n",
       "  <thead>\n",
       "    <tr style=\"text-align: right;\">\n",
       "      <th></th>\n",
       "      <th>code</th>\n",
       "      <th>feature</th>\n",
       "      <th>gn</th>\n",
       "      <th>length</th>\n",
       "    </tr>\n",
       "  </thead>\n",
       "  <tbody>\n",
       "    <tr>\n",
       "      <th>count</th>\n",
       "      <td>337</td>\n",
       "      <td>337</td>\n",
       "      <td>337</td>\n",
       "      <td>337</td>\n",
       "    </tr>\n",
       "    <tr>\n",
       "      <th>unique</th>\n",
       "      <td>10</td>\n",
       "      <td>10</td>\n",
       "      <td>337</td>\n",
       "      <td>6</td>\n",
       "    </tr>\n",
       "    <tr>\n",
       "      <th>top</th>\n",
       "      <td>HY</td>\n",
       "      <td>Hydrophobic</td>\n",
       "      <td>3.52x52</td>\n",
       "      <td>any</td>\n",
       "    </tr>\n",
       "    <tr>\n",
       "      <th>freq</th>\n",
       "      <td>182</td>\n",
       "      <td>182</td>\n",
       "      <td>1</td>\n",
       "      <td>330</td>\n",
       "    </tr>\n",
       "  </tbody>\n",
       "</table>\n",
       "</div>"
      ],
      "text/plain": [
       "       code      feature       gn length\n",
       "count   337          337      337    337\n",
       "unique   10           10      337      6\n",
       "top      HY  Hydrophobic  3.52x52    any\n",
       "freq    182          182        1    330"
      ]
     },
     "metadata": {},
     "output_type": "display_data"
    },
    {
     "name": "stdout",
     "output_type": "stream",
     "text": [
      "\n",
      "\n",
      "Dataframe size:\n",
      "(337, 4)\n",
      "\n",
      "\n"
     ]
    },
    {
     "data": {
      "text/html": [
       "<div>\n",
       "<style scoped>\n",
       "    .dataframe tbody tr th:only-of-type {\n",
       "        vertical-align: middle;\n",
       "    }\n",
       "\n",
       "    .dataframe tbody tr th {\n",
       "        vertical-align: top;\n",
       "    }\n",
       "\n",
       "    .dataframe thead th {\n",
       "        text-align: right;\n",
       "    }\n",
       "</style>\n",
       "<table border=\"1\" class=\"dataframe\">\n",
       "  <thead>\n",
       "    <tr style=\"text-align: right;\">\n",
       "      <th></th>\n",
       "      <th>code</th>\n",
       "      <th>feature</th>\n",
       "      <th>gn</th>\n",
       "      <th>length</th>\n",
       "    </tr>\n",
       "  </thead>\n",
       "  <tbody>\n",
       "    <tr>\n",
       "      <th>109</th>\n",
       "      <td>Hb</td>\n",
       "      <td>Hydrogen bonding (polar)</td>\n",
       "      <td>C.01-C-term-0033</td>\n",
       "      <td>any</td>\n",
       "    </tr>\n",
       "    <tr>\n",
       "      <th>112</th>\n",
       "      <td>Hb</td>\n",
       "      <td>Hydrogen bonding (polar)</td>\n",
       "      <td>C.01-C-term-0030</td>\n",
       "      <td>any</td>\n",
       "    </tr>\n",
       "    <tr>\n",
       "      <th>114</th>\n",
       "      <td>Hb</td>\n",
       "      <td>Hydrogen bonding (polar)</td>\n",
       "      <td>C.01-C-term-0028</td>\n",
       "      <td>any</td>\n",
       "    </tr>\n",
       "    <tr>\n",
       "      <th>115</th>\n",
       "      <td>Hb</td>\n",
       "      <td>Hydrogen bonding (polar)</td>\n",
       "      <td>C.01-C-term-0027</td>\n",
       "      <td>any</td>\n",
       "    </tr>\n",
       "    <tr>\n",
       "      <th>116</th>\n",
       "      <td>Hb</td>\n",
       "      <td>Hydrogen bonding (polar)</td>\n",
       "      <td>C.01-C-term-0026</td>\n",
       "      <td>any</td>\n",
       "    </tr>\n",
       "  </tbody>\n",
       "</table>\n",
       "</div>"
      ],
      "text/plain": [
       "    code                   feature                gn length\n",
       "109   Hb  Hydrogen bonding (polar)  C.01-C-term-0033    any\n",
       "112   Hb  Hydrogen bonding (polar)  C.01-C-term-0030    any\n",
       "114   Hb  Hydrogen bonding (polar)  C.01-C-term-0028    any\n",
       "115   Hb  Hydrogen bonding (polar)  C.01-C-term-0027    any\n",
       "116   Hb  Hydrogen bonding (polar)  C.01-C-term-0026    any"
      ]
     },
     "metadata": {},
     "output_type": "display_data"
    },
    {
     "name": "stdout",
     "output_type": "stream",
     "text": [
      "Dataframe description:\n"
     ]
    },
    {
     "data": {
      "text/html": [
       "<div>\n",
       "<style scoped>\n",
       "    .dataframe tbody tr th:only-of-type {\n",
       "        vertical-align: middle;\n",
       "    }\n",
       "\n",
       "    .dataframe tbody tr th {\n",
       "        vertical-align: top;\n",
       "    }\n",
       "\n",
       "    .dataframe thead th {\n",
       "        text-align: right;\n",
       "    }\n",
       "</style>\n",
       "<table border=\"1\" class=\"dataframe\">\n",
       "  <thead>\n",
       "    <tr style=\"text-align: right;\">\n",
       "      <th></th>\n",
       "      <th>code</th>\n",
       "      <th>feature</th>\n",
       "      <th>gn</th>\n",
       "      <th>length</th>\n",
       "    </tr>\n",
       "  </thead>\n",
       "  <tbody>\n",
       "    <tr>\n",
       "      <th>count</th>\n",
       "      <td>332</td>\n",
       "      <td>332</td>\n",
       "      <td>332</td>\n",
       "      <td>332</td>\n",
       "    </tr>\n",
       "    <tr>\n",
       "      <th>unique</th>\n",
       "      <td>7</td>\n",
       "      <td>8</td>\n",
       "      <td>332</td>\n",
       "      <td>6</td>\n",
       "    </tr>\n",
       "    <tr>\n",
       "      <th>top</th>\n",
       "      <td>HY</td>\n",
       "      <td>Hydrophobic</td>\n",
       "      <td>3.52x52</td>\n",
       "      <td>any</td>\n",
       "    </tr>\n",
       "    <tr>\n",
       "      <th>freq</th>\n",
       "      <td>190</td>\n",
       "      <td>190</td>\n",
       "      <td>1</td>\n",
       "      <td>322</td>\n",
       "    </tr>\n",
       "  </tbody>\n",
       "</table>\n",
       "</div>"
      ],
      "text/plain": [
       "       code      feature       gn length\n",
       "count   332          332      332    332\n",
       "unique    7            8      332      6\n",
       "top      HY  Hydrophobic  3.52x52    any\n",
       "freq    190          190        1    322"
      ]
     },
     "metadata": {},
     "output_type": "display_data"
    },
    {
     "name": "stdout",
     "output_type": "stream",
     "text": [
      "\n",
      "\n",
      "Dataframe size:\n",
      "(332, 4)\n",
      "\n",
      "\n"
     ]
    },
    {
     "data": {
      "text/html": [
       "<div>\n",
       "<style scoped>\n",
       "    .dataframe tbody tr th:only-of-type {\n",
       "        vertical-align: middle;\n",
       "    }\n",
       "\n",
       "    .dataframe tbody tr th {\n",
       "        vertical-align: top;\n",
       "    }\n",
       "\n",
       "    .dataframe thead th {\n",
       "        text-align: right;\n",
       "    }\n",
       "</style>\n",
       "<table border=\"1\" class=\"dataframe\">\n",
       "  <thead>\n",
       "    <tr style=\"text-align: right;\">\n",
       "      <th></th>\n",
       "      <th>code</th>\n",
       "      <th>feature</th>\n",
       "      <th>gn</th>\n",
       "      <th>length</th>\n",
       "    </tr>\n",
       "  </thead>\n",
       "  <tbody>\n",
       "    <tr>\n",
       "      <th>324</th>\n",
       "      <td>Hb</td>\n",
       "      <td>Hydrogen bonding (polar)</td>\n",
       "      <td>C.01-C-term-0029</td>\n",
       "      <td>any</td>\n",
       "    </tr>\n",
       "    <tr>\n",
       "      <th>325</th>\n",
       "      <td>Hb</td>\n",
       "      <td>Hydrogen bonding (polar)</td>\n",
       "      <td>C.01-C-term-0028</td>\n",
       "      <td>any</td>\n",
       "    </tr>\n",
       "    <tr>\n",
       "      <th>326</th>\n",
       "      <td>Hb</td>\n",
       "      <td>Hydrogen bonding (polar)</td>\n",
       "      <td>C.01-C-term-0027</td>\n",
       "      <td>any</td>\n",
       "    </tr>\n",
       "    <tr>\n",
       "      <th>327</th>\n",
       "      <td>Hb</td>\n",
       "      <td>Hydrogen bonding (polar)</td>\n",
       "      <td>C.01-C-term-0026</td>\n",
       "      <td>any</td>\n",
       "    </tr>\n",
       "    <tr>\n",
       "      <th>328</th>\n",
       "      <td>Hb</td>\n",
       "      <td>Hydrogen bonding (polar)</td>\n",
       "      <td>C.01-C-term-0025</td>\n",
       "      <td>any</td>\n",
       "    </tr>\n",
       "  </tbody>\n",
       "</table>\n",
       "</div>"
      ],
      "text/plain": [
       "    code                   feature                gn length\n",
       "324   Hb  Hydrogen bonding (polar)  C.01-C-term-0029    any\n",
       "325   Hb  Hydrogen bonding (polar)  C.01-C-term-0028    any\n",
       "326   Hb  Hydrogen bonding (polar)  C.01-C-term-0027    any\n",
       "327   Hb  Hydrogen bonding (polar)  C.01-C-term-0026    any\n",
       "328   Hb  Hydrogen bonding (polar)  C.01-C-term-0025    any"
      ]
     },
     "metadata": {},
     "output_type": "display_data"
    }
   ],
   "source": [
    "drop_list = [\n",
    "    'key',\n",
    "    'score',\n",
    "    'cons',\n",
    "    'gprot',\n",
    "    'rec_class'\n",
    "]\n",
    "df1 = df1.loc[df1['code'] != '-']\n",
    "df2 = df2.loc[df2['code'] != '-']\n",
    "comp = compare_sets(df1, df2, method=set.difference, drop_list=drop_list)"
   ]
  },
  {
   "cell_type": "code",
   "execution_count": 32,
   "metadata": {},
   "outputs": [
    {
     "name": "stdout",
     "output_type": "stream",
     "text": [
      "Dataframe description:\n"
     ]
    },
    {
     "data": {
      "text/html": [
       "<div>\n",
       "<style scoped>\n",
       "    .dataframe tbody tr th:only-of-type {\n",
       "        vertical-align: middle;\n",
       "    }\n",
       "\n",
       "    .dataframe tbody tr th {\n",
       "        vertical-align: top;\n",
       "    }\n",
       "\n",
       "    .dataframe thead th {\n",
       "        text-align: right;\n",
       "    }\n",
       "</style>\n",
       "<table border=\"1\" class=\"dataframe\">\n",
       "  <thead>\n",
       "    <tr style=\"text-align: right;\">\n",
       "      <th></th>\n",
       "      <th>code</th>\n",
       "      <th>feature</th>\n",
       "      <th>gn</th>\n",
       "      <th>length</th>\n",
       "    </tr>\n",
       "  </thead>\n",
       "  <tbody>\n",
       "    <tr>\n",
       "      <th>count</th>\n",
       "      <td>60</td>\n",
       "      <td>60</td>\n",
       "      <td>60</td>\n",
       "      <td>60</td>\n",
       "    </tr>\n",
       "    <tr>\n",
       "      <th>unique</th>\n",
       "      <td>6</td>\n",
       "      <td>7</td>\n",
       "      <td>60</td>\n",
       "      <td>5</td>\n",
       "    </tr>\n",
       "    <tr>\n",
       "      <th>top</th>\n",
       "      <td>HY</td>\n",
       "      <td>Hydrophobic</td>\n",
       "      <td>1.35-36x36</td>\n",
       "      <td>any</td>\n",
       "    </tr>\n",
       "    <tr>\n",
       "      <th>freq</th>\n",
       "      <td>34</td>\n",
       "      <td>34</td>\n",
       "      <td>1</td>\n",
       "      <td>52</td>\n",
       "    </tr>\n",
       "  </tbody>\n",
       "</table>\n",
       "</div>"
      ],
      "text/plain": [
       "       code      feature          gn length\n",
       "count    60           60          60     60\n",
       "unique    6            7          60      5\n",
       "top      HY  Hydrophobic  1.35-36x36    any\n",
       "freq     34           34           1     52"
      ]
     },
     "metadata": {},
     "output_type": "display_data"
    },
    {
     "name": "stdout",
     "output_type": "stream",
     "text": [
      "\n",
      "\n",
      "Dataframe size:\n",
      "(60, 4)\n",
      "\n",
      "\n"
     ]
    },
    {
     "data": {
      "text/html": [
       "<div>\n",
       "<style scoped>\n",
       "    .dataframe tbody tr th:only-of-type {\n",
       "        vertical-align: middle;\n",
       "    }\n",
       "\n",
       "    .dataframe tbody tr th {\n",
       "        vertical-align: top;\n",
       "    }\n",
       "\n",
       "    .dataframe thead th {\n",
       "        text-align: right;\n",
       "    }\n",
       "</style>\n",
       "<table border=\"1\" class=\"dataframe\">\n",
       "  <thead>\n",
       "    <tr style=\"text-align: right;\">\n",
       "      <th></th>\n",
       "      <th>code</th>\n",
       "      <th>feature</th>\n",
       "      <th>gn</th>\n",
       "      <th>length</th>\n",
       "    </tr>\n",
       "  </thead>\n",
       "  <tbody>\n",
       "    <tr>\n",
       "      <th>0</th>\n",
       "      <td>HY</td>\n",
       "      <td>Hydrophobic</td>\n",
       "      <td>7.32x31</td>\n",
       "      <td>any</td>\n",
       "    </tr>\n",
       "    <tr>\n",
       "      <th>1</th>\n",
       "      <td>Hb</td>\n",
       "      <td>Hydrogen bonding (polar)</td>\n",
       "      <td>3.50x50</td>\n",
       "      <td>any</td>\n",
       "    </tr>\n",
       "    <tr>\n",
       "      <th>2</th>\n",
       "      <td>HY</td>\n",
       "      <td>Hydrophobic</td>\n",
       "      <td>2.66-67x66</td>\n",
       "      <td>any</td>\n",
       "    </tr>\n",
       "    <tr>\n",
       "      <th>3</th>\n",
       "      <td>Sm</td>\n",
       "      <td>Small</td>\n",
       "      <td>3.25x25</td>\n",
       "      <td>1-2</td>\n",
       "    </tr>\n",
       "    <tr>\n",
       "      <th>4</th>\n",
       "      <td>HY</td>\n",
       "      <td>Hydrophobic</td>\n",
       "      <td>3.37x37</td>\n",
       "      <td>any</td>\n",
       "    </tr>\n",
       "  </tbody>\n",
       "</table>\n",
       "</div>"
      ],
      "text/plain": [
       "  code                   feature          gn length\n",
       "0   HY               Hydrophobic     7.32x31    any\n",
       "1   Hb  Hydrogen bonding (polar)     3.50x50    any\n",
       "2   HY               Hydrophobic  2.66-67x66    any\n",
       "3   Sm                     Small     3.25x25    1-2\n",
       "4   HY               Hydrophobic     3.37x37    any"
      ]
     },
     "metadata": {},
     "output_type": "display_data"
    }
   ],
   "source": [
    "summarize_df(comp)"
   ]
  },
  {
   "cell_type": "code",
   "execution_count": null,
   "metadata": {},
   "outputs": [],
   "source": []
  }
 ],
 "metadata": {
  "kernelspec": {
   "display_name": "Python 3",
   "language": "python",
   "name": "python3"
  },
  "language_info": {
   "codemirror_mode": {
    "name": "ipython",
    "version": 3
   },
   "file_extension": ".py",
   "mimetype": "text/x-python",
   "name": "python",
   "nbconvert_exporter": "python",
   "pygments_lexer": "ipython3",
   "version": "3.4.3"
  }
 },
 "nbformat": 4,
 "nbformat_minor": 2
}
