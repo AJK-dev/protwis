{
 "cells": [
  {
   "cell_type": "markdown",
   "metadata": {},
   "source": [
    "#### Setup"
   ]
  },
  {
   "cell_type": "code",
   "execution_count": 1,
   "metadata": {},
   "outputs": [
    {
     "name": "stdout",
     "output_type": "stream",
     "text": [
      "/protwis/sites/protwis\n"
     ]
    }
   ],
   "source": [
    "import os, sys\n",
    "PWD = os.getenv('PWD')\n",
    "print(PWD)"
   ]
  },
  {
   "cell_type": "code",
   "execution_count": 2,
   "metadata": {},
   "outputs": [
    {
     "name": "stderr",
     "output_type": "stream",
     "text": [
      "/env/lib/python3.4/site-packages/psycopg2/__init__.py:144: UserWarning: The psycopg2 wheel package will be renamed from release 2.8; in order to keep installing from binary please use \"pip install psycopg2-binary\" instead. For details see: <http://initd.org/psycopg/docs/install.html#binary-install-from-pypi>.\n",
      "  \"\"\")\n"
     ]
    }
   ],
   "source": [
    "os.chdir(PWD)\n",
    "sys.path.insert(0, os.getenv('PWD'))\n",
    "os.environ.setdefault(\"DJANGO_SETTINGS_MODULE\", \"protwis.settings\")\n",
    "import django\n",
    "django.setup()"
   ]
  },
  {
   "cell_type": "markdown",
   "metadata": {},
   "source": [
    "#### Imports"
   ]
  },
  {
   "cell_type": "code",
   "execution_count": 3,
   "metadata": {},
   "outputs": [],
   "source": [
    "from itertools import combinations\n",
    "from tqdm import tqdm\n",
    "import pandas as pd\n",
    "\n",
    "from signprot.interactions import *\n",
    "from protein.models import Protein, ProteinSegment, ProteinFamily\n",
    "from signprot.models import SignprotComplex\n",
    "from seqsign.sequence_signature import SequenceSignature"
   ]
  },
  {
   "cell_type": "markdown",
   "metadata": {},
   "source": [
    "## Defining the protein sets"
   ]
  },
  {
   "cell_type": "markdown",
   "metadata": {},
   "source": [
    "### G Proteins"
   ]
  },
  {
   "cell_type": "code",
   "execution_count": 4,
   "metadata": {},
   "outputs": [],
   "source": [
    "sets = {\n",
    "    'Gi/o': [],\n",
    "    'Gq/11': [],\n",
    "    'Gs': [],\n",
    "    'G12/13': [],\n",
    "}\n",
    "\n",
    "set_combinations = list(combinations(sets.keys(), 2))\n",
    "segments = list(ProteinSegment.objects.filter(proteinfamily='GPCR'))"
   ]
  },
  {
   "cell_type": "code",
   "execution_count": 5,
   "metadata": {},
   "outputs": [
    {
     "data": {
      "text/plain": [
       "[('G12/13', 'Gs'),\n",
       " ('G12/13', 'Gi/o'),\n",
       " ('G12/13', 'Gq/11'),\n",
       " ('Gs', 'Gi/o'),\n",
       " ('Gs', 'Gq/11'),\n",
       " ('Gi/o', 'Gq/11')]"
      ]
     },
     "execution_count": 5,
     "metadata": {},
     "output_type": "execute_result"
    }
   ],
   "source": [
    "set_combinations"
   ]
  },
  {
   "cell_type": "markdown",
   "metadata": {},
   "source": [
    "### Querying all Complexes"
   ]
  },
  {
   "cell_type": "code",
   "execution_count": 6,
   "metadata": {},
   "outputs": [],
   "source": [
    "rec_classes = ProteinFamily.objects.filter(parent=1).exclude(slug=100)"
   ]
  },
  {
   "cell_type": "code",
   "execution_count": 7,
   "metadata": {},
   "outputs": [
    {
     "data": {
      "text/html": [
       "<div>\n",
       "<style scoped>\n",
       "    .dataframe tbody tr th:only-of-type {\n",
       "        vertical-align: middle;\n",
       "    }\n",
       "\n",
       "    .dataframe tbody tr th {\n",
       "        vertical-align: top;\n",
       "    }\n",
       "\n",
       "    .dataframe thead th {\n",
       "        text-align: right;\n",
       "    }\n",
       "</style>\n",
       "<table border=\"1\" class=\"dataframe\">\n",
       "  <thead>\n",
       "    <tr style=\"text-align: right;\">\n",
       "      <th></th>\n",
       "      <th>gprot</th>\n",
       "      <th>rec_class</th>\n",
       "      <th>rec_name</th>\n",
       "      <th>rec_obj</th>\n",
       "      <th>rec_pdb</th>\n",
       "      <th>rec_short</th>\n",
       "    </tr>\n",
       "  </thead>\n",
       "  <tbody>\n",
       "    <tr>\n",
       "      <th>0</th>\n",
       "      <td>Gs</td>\n",
       "      <td>Class B1 (Secretin)</td>\n",
       "      <td>CT receptor</td>\n",
       "      <td>5uz7</td>\n",
       "      <td>5UZ7</td>\n",
       "      <td>CALCR</td>\n",
       "    </tr>\n",
       "    <tr>\n",
       "      <th>1</th>\n",
       "      <td>Gs</td>\n",
       "      <td>Class B1 (Secretin)</td>\n",
       "      <td>CT receptor</td>\n",
       "      <td>6niy</td>\n",
       "      <td>6NIY</td>\n",
       "      <td>CALCR</td>\n",
       "    </tr>\n",
       "    <tr>\n",
       "      <th>2</th>\n",
       "      <td>Gs</td>\n",
       "      <td>Class B1 (Secretin)</td>\n",
       "      <td>GLP-1 receptor</td>\n",
       "      <td>5vai</td>\n",
       "      <td>5VAI</td>\n",
       "      <td>G1SGD4</td>\n",
       "    </tr>\n",
       "    <tr>\n",
       "      <th>3</th>\n",
       "      <td>Gs</td>\n",
       "      <td>Class B1 (Secretin)</td>\n",
       "      <td>GLP-1 receptor</td>\n",
       "      <td>6b3j</td>\n",
       "      <td>6B3J</td>\n",
       "      <td>GLP1R</td>\n",
       "    </tr>\n",
       "    <tr>\n",
       "      <th>4</th>\n",
       "      <td>Gs</td>\n",
       "      <td>Class A (Rhodopsin)</td>\n",
       "      <td>A&lt;sub&gt;2A&lt;/sub&gt; receptor</td>\n",
       "      <td>6gdg</td>\n",
       "      <td>6GDG</td>\n",
       "      <td>AA2AR</td>\n",
       "    </tr>\n",
       "    <tr>\n",
       "      <th>5</th>\n",
       "      <td>Gs</td>\n",
       "      <td>Class A (Rhodopsin)</td>\n",
       "      <td>&amp;beta;&lt;sub&gt;2&lt;/sub&gt;-adrenoceptor</td>\n",
       "      <td>3sn6</td>\n",
       "      <td>3SN6</td>\n",
       "      <td>ADRB2</td>\n",
       "    </tr>\n",
       "    <tr>\n",
       "      <th>6</th>\n",
       "      <td>Gi/o</td>\n",
       "      <td>Class A (Rhodopsin)</td>\n",
       "      <td>&amp;mu; receptor</td>\n",
       "      <td>6dde</td>\n",
       "      <td>6DDE</td>\n",
       "      <td>OPRM</td>\n",
       "    </tr>\n",
       "    <tr>\n",
       "      <th>7</th>\n",
       "      <td>Gi/o</td>\n",
       "      <td>Class A (Rhodopsin)</td>\n",
       "      <td>&amp;mu; receptor</td>\n",
       "      <td>6ddf</td>\n",
       "      <td>6DDF</td>\n",
       "      <td>OPRM</td>\n",
       "    </tr>\n",
       "    <tr>\n",
       "      <th>8</th>\n",
       "      <td>Gi/o</td>\n",
       "      <td>Class A (Rhodopsin)</td>\n",
       "      <td>Rhodopsin</td>\n",
       "      <td>6cmo</td>\n",
       "      <td>6CMO</td>\n",
       "      <td>OPSD</td>\n",
       "    </tr>\n",
       "    <tr>\n",
       "      <th>9</th>\n",
       "      <td>Gi/o</td>\n",
       "      <td>Class A (Rhodopsin)</td>\n",
       "      <td>CB&lt;sub&gt;1&lt;/sub&gt; receptor</td>\n",
       "      <td>6n4b</td>\n",
       "      <td>6N4B</td>\n",
       "      <td>CNR1</td>\n",
       "    </tr>\n",
       "    <tr>\n",
       "      <th>10</th>\n",
       "      <td>Gi/o</td>\n",
       "      <td>Class A (Rhodopsin)</td>\n",
       "      <td>A&lt;sub&gt;1&lt;/sub&gt; receptor</td>\n",
       "      <td>6d9h</td>\n",
       "      <td>6D9H</td>\n",
       "      <td>AA1R</td>\n",
       "    </tr>\n",
       "    <tr>\n",
       "      <th>11</th>\n",
       "      <td>Gi/o</td>\n",
       "      <td>Class A (Rhodopsin)</td>\n",
       "      <td>5-HT&lt;sub&gt;1B&lt;/sub&gt; receptor</td>\n",
       "      <td>6g79</td>\n",
       "      <td>6G79</td>\n",
       "      <td>5HT1B</td>\n",
       "    </tr>\n",
       "  </tbody>\n",
       "</table>\n",
       "</div>"
      ],
      "text/plain": [
       "   gprot            rec_class                         rec_name rec_obj  \\\n",
       "0     Gs  Class B1 (Secretin)                      CT receptor    5uz7   \n",
       "1     Gs  Class B1 (Secretin)                      CT receptor    6niy   \n",
       "2     Gs  Class B1 (Secretin)                   GLP-1 receptor    5vai   \n",
       "3     Gs  Class B1 (Secretin)                   GLP-1 receptor    6b3j   \n",
       "4     Gs  Class A (Rhodopsin)          A<sub>2A</sub> receptor    6gdg   \n",
       "5     Gs  Class A (Rhodopsin)  &beta;<sub>2</sub>-adrenoceptor    3sn6   \n",
       "6   Gi/o  Class A (Rhodopsin)                    &mu; receptor    6dde   \n",
       "7   Gi/o  Class A (Rhodopsin)                    &mu; receptor    6ddf   \n",
       "8   Gi/o  Class A (Rhodopsin)                        Rhodopsin    6cmo   \n",
       "9   Gi/o  Class A (Rhodopsin)          CB<sub>1</sub> receptor    6n4b   \n",
       "10  Gi/o  Class A (Rhodopsin)           A<sub>1</sub> receptor    6d9h   \n",
       "11  Gi/o  Class A (Rhodopsin)       5-HT<sub>1B</sub> receptor    6g79   \n",
       "\n",
       "   rec_pdb rec_short  \n",
       "0     5UZ7     CALCR  \n",
       "1     6NIY     CALCR  \n",
       "2     5VAI    G1SGD4  \n",
       "3     6B3J     GLP1R  \n",
       "4     6GDG     AA2AR  \n",
       "5     3SN6     ADRB2  \n",
       "6     6DDE      OPRM  \n",
       "7     6DDF      OPRM  \n",
       "8     6CMO      OPSD  \n",
       "9     6N4B      CNR1  \n",
       "10    6D9H      AA1R  \n",
       "11    6G79     5HT1B  "
      ]
     },
     "execution_count": 7,
     "metadata": {},
     "output_type": "execute_result"
    }
   ],
   "source": [
    "complexes = []\n",
    "for pc in SignprotComplex.objects.all().prefetch_related('structure', 'protein'):\n",
    "    t = {}\n",
    "    \n",
    "    t['gprot']  = pc.protein.family.name\n",
    "    t['rec_pdb'] = pc.structure.protein_conformation.protein.entry_short()\n",
    "    t['rec_obj'] = pc.structure.protein_conformation.protein\n",
    "    t['rec_class'] = pc.structure.protein_conformation.protein.get_protein_class()\n",
    "    t['rec_short'] = pc.structure.protein_conformation.protein.parent.entry_short()\n",
    "    t['rec_name'] = pc.structure.protein_conformation.protein.parent.name\n",
    "    \n",
    "    complexes.append(t)\n",
    "\n",
    "pd.DataFrame(complexes)"
   ]
  },
  {
   "cell_type": "markdown",
   "metadata": {},
   "source": [
    "## Calculating a Feature Consensus via the Sequence Signature Tool"
   ]
  },
  {
   "cell_type": "code",
   "execution_count": 8,
   "metadata": {},
   "outputs": [],
   "source": [
    "def extract_per_attr(data, attr, name):\n",
    "    '''Return elements of data for which attr is equal to name'''\n",
    "    return [elem for elem in data if elem[attr] == name]\n",
    "    \n",
    "\n",
    "signatures = []\n",
    "for rec_class in rec_classes:\n",
    "    class_name = rec_class.name\n",
    "    data_per_class = None\n",
    "    data_per_class = extract_per_attr(complexes, 'rec_class', class_name)\n",
    "\n",
    "    if data_per_class:\n",
    "        \n",
    "        for gprot in sets.keys():\n",
    "            data_per_gprot = None\n",
    "            data_per_gprot = extract_per_attr(data_per_class, 'gprot', gprot)\n",
    "            \n",
    "            if data_per_gprot:\n",
    "        \n",
    "                pos_set = [elem['rec_obj'] for elem in data_per_gprot]\n",
    "\n",
    "                signature = SequenceSignature()\n",
    "                signature.setup_alignments(segments, pos_set)\n",
    "                signature.calculate_signature_onesided()\n",
    "\n",
    "                signatures.append({\n",
    "                    'rec_class': class_name,\n",
    "                    'gprot': gprot,\n",
    "                    'signature': signature,\n",
    "                })\n"
   ]
  },
  {
   "cell_type": "code",
   "execution_count": 9,
   "metadata": {},
   "outputs": [
    {
     "data": {
      "text/plain": [
       "[{'gprot': 'Gs',\n",
       "  'rec_class': 'Class A (Rhodopsin)',\n",
       "  'signature': <seqsign.sequence_signature.SequenceSignature at 0x7f2fcf580390>},\n",
       " {'gprot': 'Gi/o',\n",
       "  'rec_class': 'Class A (Rhodopsin)',\n",
       "  'signature': <seqsign.sequence_signature.SequenceSignature at 0x7f2fe123b048>},\n",
       " {'gprot': 'Gs',\n",
       "  'rec_class': 'Class B1 (Secretin)',\n",
       "  'signature': <seqsign.sequence_signature.SequenceSignature at 0x7f2fce0b7f60>}]"
      ]
     },
     "execution_count": 9,
     "metadata": {},
     "output_type": "execute_result"
    }
   ],
   "source": [
    "signatures"
   ]
  },
  {
   "cell_type": "code",
   "execution_count": 28,
   "metadata": {},
   "outputs": [],
   "source": [
    "for signature_dict in signatures:\n",
    "    signature = signature_dict['signature']\n",
    "\n",
    "    sig_data = signature.prepare_display_data()\n",
    "    gn = get_generic_numbers(sig_data)\n",
    "    gn_flat = list(chain.from_iterable(gn))\n",
    "            \n",
    "    signature_dict['consensus'] = get_signature_consensus(sig_data, gn_flat)"
   ]
  },
  {
   "cell_type": "code",
   "execution_count": 27,
   "metadata": {},
   "outputs": [
    {
     "data": {
      "text/plain": [
       "{'Class A (Rhodopsin) - Gi/o': 380,\n",
       " 'Class A (Rhodopsin) - Gs': 292,\n",
       " 'Class B1 (Secretin) - Gs': 438}"
      ]
     },
     "execution_count": 27,
     "metadata": {},
     "output_type": "execute_result"
    }
   ],
   "source": [
    "{'{} - {}'.format(sig['rec_class'], sig['gprot']): len(sig['consensus']) for sig in signatures}"
   ]
  },
  {
   "cell_type": "markdown",
   "metadata": {},
   "source": [
    "## Calculating a Feature Consensus via the Interaction Interface Matrix"
   ]
  },
  {
   "cell_type": "code",
   "execution_count": null,
   "metadata": {},
   "outputs": [],
   "source": []
  }
 ],
 "metadata": {
  "kernelspec": {
   "display_name": "Python 3",
   "language": "python",
   "name": "python3"
  },
  "language_info": {
   "codemirror_mode": {
    "name": "ipython",
    "version": 3
   },
   "file_extension": ".py",
   "mimetype": "text/x-python",
   "name": "python",
   "nbconvert_exporter": "python",
   "pygments_lexer": "ipython3",
   "version": "3.4.3"
  }
 },
 "nbformat": 4,
 "nbformat_minor": 2
}
